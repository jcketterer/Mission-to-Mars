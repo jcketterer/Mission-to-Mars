{
 "cells": [
  {
   "cell_type": "code",
   "execution_count": 15,
   "metadata": {},
   "outputs": [],
   "source": [
    "import time \n",
    "from splinter import Browser \n",
    "from bs4 import BeautifulSoup as bs \n",
    "import pandas as pd\n",
    "import numpy as np\n",
    "from selenium import webdriver\n",
    "from selenium.webdriver.common.keys import Keys\n",
    "import requests as req\n",
    "import re\n",
    "import pprint\n",
    "from splinter import browser\n",
    "from selenium import webdriver"
   ]
  },
  {
   "cell_type": "code",
   "execution_count": 16,
   "metadata": {},
   "outputs": [],
   "source": [
    "executable_path = {'executable_path' : 'chromedriver'}\n",
    "browser = Browser('chrome', **executable_path, headless=False)"
   ]
  },
  {
   "cell_type": "code",
   "execution_count": 17,
   "metadata": {},
   "outputs": [],
   "source": [
    "def scrape_all():\n",
    "    url = \"https://mars.nasa.gov/news/\"\n",
    "    response = req.get(url)\n",
    "#     html = browser.html\n",
    "    soup = bs(response.text, 'html5lib')"
   ]
  },
  {
   "cell_type": "markdown",
   "metadata": {},
   "source": [
    "# NASA News From Mars"
   ]
  },
  {
   "cell_type": "code",
   "execution_count": 18,
   "metadata": {},
   "outputs": [],
   "source": [
    "news_url = \"https://mars.nasa.gov/news/\"\n",
    "news_browser = webdriver.Chrome()\n",
    "news_browser.get(news_url)\n",
    "time.sleep(1)\n",
    "news_titles = news_browser.find_elements_by_tag_name('a')\n",
    "news_bodies = news_browser.find_elements_by_class_name('article_teaser_body')\n",
    "all_titles = []\n",
    "all_bodies = []\n",
    "\n",
    "for title in news_titles: \n",
    "    all_titles.append(title.text)\n",
    "for body in news_bodies:\n",
    "    all_bodies.append(body.text)\n",
    "    \n",
    "news_browser.quit()\n"
   ]
  },
  {
   "cell_type": "code",
   "execution_count": 26,
   "metadata": {},
   "outputs": [
    {
     "name": "stdout",
     "output_type": "stream",
     "text": [
      "NASA's Mars 2020 Heads Into the Test Chamber\n",
      "In this time-lapse video taken at JPL, engineers move the Mars 2020 rover into a large vacuum chamber for testing in Mars-like environmental conditions.\n"
     ]
    }
   ],
   "source": [
    "news_title = all_titles[34]\n",
    "news_desc = all_bodies[0]\n",
    "\n",
    "print(news_title)\n",
    "print(news_desc)"
   ]
  },
  {
   "cell_type": "markdown",
   "metadata": {},
   "source": [
    "# Mars Space Images "
   ]
  },
  {
   "cell_type": "code",
   "execution_count": 30,
   "metadata": {},
   "outputs": [],
   "source": [
    "executable_path = {'executable_path' : 'chromedriver'}\n",
    "browser = Browser('chrome', **executable_path, headless=False)\n",
    "\n",
    "url_pre_image = 'https://www.jpl.nasa.gov/spaceimages/?search=&category=Mars'\n",
    "browser.visit(url_pre_image)\n"
   ]
  },
  {
   "cell_type": "code",
   "execution_count": 31,
   "metadata": {},
   "outputs": [],
   "source": [
    "html = browser.html\n",
    "soup = bs(html, 'html.parser')"
   ]
  },
  {
   "cell_type": "code",
   "execution_count": 32,
   "metadata": {},
   "outputs": [],
   "source": [
    "browser.click_link_by_partial_text(\"FULL IMAGE\")\n",
    "time.sleep(2)"
   ]
  },
  {
   "cell_type": "code",
   "execution_count": 33,
   "metadata": {},
   "outputs": [],
   "source": [
    "browser.click_link_by_partial_text(\"more info\")"
   ]
  },
  {
   "cell_type": "code",
   "execution_count": 34,
   "metadata": {},
   "outputs": [
    {
     "name": "stdout",
     "output_type": "stream",
     "text": [
      "/spaceimages/images/largesize/PIA15883_hires.jpg\n"
     ]
    }
   ],
   "source": [
    "final_image_html = browser.html\n",
    "final_image_soup = bs(final_image_html, 'html.parser')\n",
    "final_image_url = final_image_soup.find('img', class_='main_image')\n",
    "url_part_two = final_image_url.get('src')\n",
    "print(url_part_two)"
   ]
  },
  {
   "cell_type": "code",
   "execution_count": 35,
   "metadata": {},
   "outputs": [
    {
     "name": "stdout",
     "output_type": "stream",
     "text": [
      "https://www.jpl.nasa.gov/spaceimages/images/largesize/PIA15883_hires.jpg\n"
     ]
    }
   ],
   "source": [
    "featured_image_link = \"https://www.jpl.nasa.gov\" + url_part_two\n",
    "\n",
    "print(featured_image_link)\n",
    "browser.quit()"
   ]
  },
  {
   "cell_type": "markdown",
   "metadata": {},
   "source": [
    "# Weather on Mars"
   ]
  },
  {
   "cell_type": "code",
   "execution_count": 36,
   "metadata": {},
   "outputs": [],
   "source": [
    "twitter_url = \"https://twitter.com/marswxreport?lang=en\"\n",
    "twitter_browser = webdriver.Chrome()"
   ]
  },
  {
   "cell_type": "code",
   "execution_count": 37,
   "metadata": {},
   "outputs": [],
   "source": [
    "twitter_browser.get(twitter_url)\n",
    "time.sleep(1)"
   ]
  },
  {
   "cell_type": "code",
   "execution_count": 39,
   "metadata": {},
   "outputs": [],
   "source": [
    "twitter_browser.get(twitter_url)\n",
    "time.sleep(1)"
   ]
  },
  {
   "cell_type": "code",
   "execution_count": 40,
   "metadata": {},
   "outputs": [],
   "source": [
    "twitter_body = twitter_browser.find_element_by_tag_name('body')"
   ]
  },
  {
   "cell_type": "code",
   "execution_count": 44,
   "metadata": {},
   "outputs": [
    {
     "name": "stdout",
     "output_type": "stream",
     "text": [
      "InSight sol 338 (2019-11-08) low -102.5ºC (-152.5ºF) high -24.0ºC (-11.1ºF)\n",
      "winds from the SSE at 5.3 m/s (11.9 mph) gusting to 19.6 m/s (43.9 mph)\n",
      "pressure at 6.90 hPa\n",
      "InSight sol 337 (2019-11-07) low -101.8ºC (-151.2ºF) high -24.0ºC (-11.3ºF)\n",
      "winds from the SSE at 4.9 m/s (11.0 mph) gusting to 21.2 m/s (47.5 mph)\n",
      "pressure at 6.90 hPa\n",
      "InSight sol 336 (2019-11-06) low -101.4ºC (-150.6ºF) high -24.0ºC (-11.2ºF)\n",
      "winds from the SSE at 4.7 m/s (10.6 mph) gusting to 18.7 m/s (41.9 mph)\n",
      "pressure at 6.90 hPa\n",
      "InSight sol 335 (2019-11-05) low -100.6ºC (-149.1ºF) high -24.3ºC (-11.8ºF)\n",
      "winds from the SSE at 4.9 m/s (10.9 mph) gusting to 19.9 m/s (44.5 mph)\n",
      "pressure at 6.90 hPa\n",
      "InSight sol 334 (2019-11-04) low -100.0ºC (-148.1ºF) high -23.8ºC (-10.8ºF)\n",
      "winds from the SSW at 5.1 m/s (11.4 mph) gusting to 19.9 m/s (44.4 mph)\n",
      "pressure at 7.00 hPa\n",
      "InSight sol 333 (2019-11-03) low -100.8ºC (-149.4ºF) high -25.8ºC (-14.4ºF)\n",
      "winds from the SSW at 4.9 m/s (11.0 mph) gusting to 18.0 m/s (40.4 mph)\n",
      "pressure at 6.90 hPa\n",
      "InSight sol 332 (2019-11-02) low -99.8ºC (-147.7ºF) high -25.2ºC (-13.3ºF)\n",
      "winds from the SSW at 4.1 m/s (9.2 mph) gusting to 18.7 m/s (41.9 mph)\n",
      "pressure at 6.90 hPa\n",
      "InSight sol 331 (2019-11-01) low -100.9ºC (-149.6ºF) high -24.6ºC (-12.3ºF)\n",
      "winds from the SSE at 5.2 m/s (11.6 mph) gusting to 18.5 m/s (41.4 mph)\n",
      "pressure at 7.00 hPa\n",
      "InSight sol 330 (2019-10-31) low -101.8ºC (-151.3ºF) high -24.8ºC (-12.6ºF)\n",
      "winds from the SSE at 5.4 m/s (12.2 mph) gusting to 20.8 m/s (46.5 mph)\n",
      "pressure at 7.00 hPa\n",
      "InSight sol 329 (2019-10-30) low -101.5ºC (-150.7ºF) high -25.0ºC (-13.0ºF)\n",
      "winds from the SSE at 5.2 m/s (11.6 mph) gusting to 19.2 m/s (42.8 mph)\n",
      "pressure at 7.00 hPa\n",
      "InSight sol 328 (2019-10-29) low -102.3ºC (-152.2ºF) high -25.2ºC (-13.3ºF)\n",
      "winds from the SSE at 4.9 m/s (10.9 mph) gusting to 18.3 m/s (40.9 mph)\n",
      "pressure at 7.00 hPa\n",
      "InSight sol 327 (2019-10-28) low -102.6ºC (-152.7ºF) high -25.3ºC (-13.5ºF)\n",
      "winds from the SSE at 5.6 m/s (12.5 mph) gusting to 19.6 m/s (43.8 mph)\n",
      "pressure at 7.00 hPa\n",
      "InSight sol 326 (2019-10-27) low -101.4ºC (-150.5ºF) high -23.7ºC (-10.7ºF)\n",
      "winds from the SSE at 5.2 m/s (11.5 mph) gusting to 18.2 m/s (40.8 mph)\n",
      "pressure at 7.00 hPa\n",
      "You gotta keep ‘em separated \n",
      "\n",
      "Engineers and technicians working on the #Mars2020 spacecraft look on as a crane lifts the rocket-powered descent stage away from the rover after a test: https://go.nasa.gov/2IpH4I3 \n",
      "InSight sol 325 (2019-10-26) low -102.0ºC (-151.7ºF) high -24.0ºC (-11.2ºF)\n",
      "winds from the SSE at 4.9 m/s (11.0 mph) gusting to 19.1 m/s (42.7 mph)\n",
      "pressure at 7.00 hPa\n",
      "InSight sol 324 (2019-10-25) low -102.4ºC (-152.3ºF) high -24.8ºC (-12.6ºF)\n",
      "winds from the SSE at 5.4 m/s (12.0 mph) gusting to 18.1 m/s (40.5 mph)\n",
      "pressure at 7.00 hPa\n",
      "InSight sol 322 (2019-10-23) pressure at 7.00 hPa\n",
      "InSight sol 321 (2019-10-22) low -102.9ºC (-153.2ºF) high -24.6ºC (-12.3ºF)\n",
      "winds from the SSE at 4.8 m/s (10.8 mph) gusting to 18.6 m/s (41.6 mph)\n",
      "pressure at 7.10 hPa\n",
      "InSight sol 320 (2019-10-21) low -102.4ºC (-152.3ºF) high -25.6ºC (-14.0ºF)\n",
      "winds from the SSE at 4.7 m/s (10.5 mph) gusting to 18.5 m/s (41.4 mph)\n",
      "pressure at 7.10 hPa\n",
      "InSight sol 319 (2019-10-19) low -101.5ºC (-150.7ºF) high -25.5ºC (-13.9ºF)\n",
      "winds from the SSE at 4.6 m/s (10.4 mph) gusting to 18.4 m/s (41.2 mph)\n",
      "pressure at 7.10 hPa\n"
     ]
    }
   ],
   "source": [
    "tweets = twitter_browser.find_elements_by_class_name('tweet-text')\n",
    "mars_weathers = []\n",
    "for tweet in tweets:\n",
    "    mars_weathers.append(tweet.text)\n",
    "    print(tweet.text)\n",
    "twitter_browser.quit()"
   ]
  },
  {
   "cell_type": "code",
   "execution_count": 45,
   "metadata": {},
   "outputs": [
    {
     "data": {
      "text/plain": [
       "'InSight sol 338 (2019-11-08) low -102.5ºC (-152.5ºF) high -24.0ºC (-11.1ºF)\\nwinds from the SSE at 5.3 m/s (11.9 mph) gusting to 19.6 m/s (43.9 mph)\\npressure at 6.90 hPa'"
      ]
     },
     "execution_count": 45,
     "metadata": {},
     "output_type": "execute_result"
    }
   ],
   "source": [
    "current_mars_weather = mars_weathers[0]\n",
    "current_mars_weather"
   ]
  },
  {
   "cell_type": "code",
   "execution_count": 48,
   "metadata": {},
   "outputs": [
    {
     "name": "stdout",
     "output_type": "stream",
     "text": [
      "                      0                              1\n",
      "0  Equatorial Diameter:                       6,792 km\n",
      "1       Polar Diameter:                       6,752 km\n",
      "2                 Mass:  6.39 × 10^23 kg (0.11 Earths)\n",
      "3                Moons:            2 (Phobos & Deimos)\n",
      "4       Orbit Distance:       227,943,824 km (1.38 AU)\n",
      "5         Orbit Period:           687 days (1.9 years)\n",
      "6  Surface Temperature:                   -87 to -5 °C\n",
      "7         First Record:              2nd millennium BC\n",
      "8          Recorded By:           Egyptian astronomers\n"
     ]
    }
   ],
   "source": [
    "url_facts = \"https://space-facts.com/mars/\"\n",
    "mars_tables = pd.read_html(url_facts)\n",
    "\n",
    "mars_df = mars_tables[0]\n",
    "mars_df.columns = ['0', '1']\n",
    "mars_df = mars_df.iloc[0:]\n",
    "\n",
    "print(mars_df)"
   ]
  },
  {
   "cell_type": "code",
   "execution_count": 50,
   "metadata": {},
   "outputs": [
    {
     "name": "stdout",
     "output_type": "stream",
     "text": [
      "<table border=\"1\" class=\"dataframe\">\n",
      "  <tbody>\n",
      "    <tr>\n",
      "      <td>Equatorial Diameter:</td>\n",
      "      <td>6,792 km</td>\n",
      "    </tr>\n",
      "    <tr>\n",
      "      <td>Polar Diameter:</td>\n",
      "      <td>6,752 km</td>\n",
      "    </tr>\n",
      "    <tr>\n",
      "      <td>Mass:</td>\n",
      "      <td>6.39 × 10^23 kg (0.11 Earths)</td>\n",
      "    </tr>\n",
      "    <tr>\n",
      "      <td>Moons:</td>\n",
      "      <td>2 (Phobos &amp; Deimos)</td>\n",
      "    </tr>\n",
      "    <tr>\n",
      "      <td>Orbit Distance:</td>\n",
      "      <td>227,943,824 km (1.38 AU)</td>\n",
      "    </tr>\n",
      "    <tr>\n",
      "      <td>Orbit Period:</td>\n",
      "      <td>687 days (1.9 years)</td>\n",
      "    </tr>\n",
      "    <tr>\n",
      "      <td>Surface Temperature:</td>\n",
      "      <td>-87 to -5 °C</td>\n",
      "    </tr>\n",
      "    <tr>\n",
      "      <td>First Record:</td>\n",
      "      <td>2nd millennium BC</td>\n",
      "    </tr>\n",
      "    <tr>\n",
      "      <td>Recorded By:</td>\n",
      "      <td>Egyptian astronomers</td>\n",
      "    </tr>\n",
      "  </tbody>\n",
      "</table>\n"
     ]
    }
   ],
   "source": [
    "mars_df = mars_df.to_html(header=False, index=False)\n",
    "print(mars_df)"
   ]
  },
  {
   "cell_type": "code",
   "execution_count": 51,
   "metadata": {},
   "outputs": [],
   "source": [
    "usgs_url = \"https://astrogeology.usgs.gov/search/results?q=hemisphere+enhanced&k1=target&v1=Mars\"\n",
    "usgs_request = req.get(usgs_url)"
   ]
  },
  {
   "cell_type": "code",
   "execution_count": 54,
   "metadata": {},
   "outputs": [],
   "source": [
    "usgs_soup = bs(usgs_request.text, \"html.parser\")\n",
    "hemisphere_list = usgs_soup.find_all('a', class_='itemLink product-item')"
   ]
  },
  {
   "cell_type": "code",
   "execution_count": 56,
   "metadata": {},
   "outputs": [
    {
     "name": "stdout",
     "output_type": "stream",
     "text": [
      "/search/map/Mars/Viking/cerberus_enhanced\n",
      "/search/map/Mars/Viking/schiaparelli_enhanced\n",
      "/search/map/Mars/Viking/syrtis_major_enhanced\n",
      "/search/map/Mars/Viking/valles_marineris_enhanced\n"
     ]
    }
   ],
   "source": [
    "hemisphere_link_1 = hemisphere_list[0]['href']\n",
    "hemisphere_link_2 = hemisphere_list[1]['href']\n",
    "hemisphere_link_3 = hemisphere_list[2]['href']\n",
    "hemisphere_link_4 = hemisphere_list[3]['href']\n",
    "\n",
    "print(hemisphere_link_1)\n",
    "print(hemisphere_link_2)\n",
    "print(hemisphere_link_3)\n",
    "print(hemisphere_link_4)"
   ]
  },
  {
   "cell_type": "code",
   "execution_count": 59,
   "metadata": {},
   "outputs": [
    {
     "name": "stdout",
     "output_type": "stream",
     "text": [
      "https://astrogeology.usgs.gov/search/map/Mars/Viking/cerberus_enhanced\n",
      "https://astrogeology.usgs.gov/search/map/Mars/Viking/schiaparelli_enhanced\n",
      "https://astrogeology.usgs.gov/search/map/Mars/Viking/syrtis_major_enhanced\n",
      "https://astrogeology.usgs.gov/search/map/Mars/Viking/valles_marineris_enhanced\n"
     ]
    }
   ],
   "source": [
    "hemisphere_url = 'https://astrogeology.usgs.gov'\n",
    "cerberus_url = hemisphere_url + hemisphere_link_1\n",
    "schiaparelli_url = hemisphere_url + hemisphere_link_2\n",
    "syrtis_url = hemisphere_url + hemisphere_link_3\n",
    "valles_url = hemisphere_url + hemisphere_link_4\n",
    "urls = [cerberus_url, schiaparelli_url, syrtis_url, valles_url]\n",
    "\n",
    "print(urls[0])\n",
    "print(urls[1])\n",
    "print(urls[2])\n",
    "print(urls[3])"
   ]
  },
  {
   "cell_type": "code",
   "execution_count": 61,
   "metadata": {},
   "outputs": [
    {
     "name": "stdout",
     "output_type": "stream",
     "text": [
      "['https://astrogeology.usgs.gov/cache/images/cfa62af2557222a02478f1fcd781d445_cerberus_enhanced.tif_full.jpg', 'https://astrogeology.usgs.gov/cache/images/3cdd1cbf5e0813bba925c9030d13b62e_schiaparelli_enhanced.tif_full.jpg', 'https://astrogeology.usgs.gov/cache/images/ae209b4e408bb6c3e67b6af38168cf28_syrtis_major_enhanced.tif_full.jpg', 'https://astrogeology.usgs.gov/cache/images/7cf2da4bf549ed01c17f206327be4db7_valles_marineris_enhanced.tif_full.jpg']\n"
     ]
    }
   ],
   "source": [
    "images = []\n",
    "headers = []\n",
    "for url in urls:\n",
    "    image_request = req.get(url)\n",
    "    image_soup = bs(image_request.text, 'html.parser')\n",
    "    image_item = image_soup.find('img', class_='wide-image')\n",
    "    images.append(hemisphere_url+image_item['src'])\n",
    "    title = image_soup.find('h2', class_='title')\n",
    "    headers.append(title.text)\n",
    "    \n",
    "print(images)"
   ]
  },
  {
   "cell_type": "code",
   "execution_count": 62,
   "metadata": {},
   "outputs": [
    {
     "name": "stdout",
     "output_type": "stream",
     "text": [
      "[{'title': 'Cerberus Hemisphere Enhanced', 'img_url': 'https://astrogeology.usgs.gov/cache/images/cfa62af2557222a02478f1fcd781d445_cerberus_enhanced.tif_full.jpg'}, {'title': 'Schiaparelli Hemisphere Enhanced', 'img_url': 'https://astrogeology.usgs.gov/cache/images/3cdd1cbf5e0813bba925c9030d13b62e_schiaparelli_enhanced.tif_full.jpg'}, {'title': 'Syrtis Major Hemisphere Enhanced', 'img_url': 'https://astrogeology.usgs.gov/cache/images/ae209b4e408bb6c3e67b6af38168cf28_syrtis_major_enhanced.tif_full.jpg'}, {'title': 'Valles Marineris Hemisphere Enhanced', 'img_url': 'https://astrogeology.usgs.gov/cache/images/7cf2da4bf549ed01c17f206327be4db7_valles_marineris_enhanced.tif_full.jpg'}]\n"
     ]
    }
   ],
   "source": [
    "hemisphere_image_urls = [{'title':headers[0], 'img_url': images[0]},\n",
    "                    {'title':headers[1], 'img_url': images[1]},\n",
    "                    {'title':headers[2], 'img_url': images[2]},\n",
    "                    {'title':headers[3], 'img_url': images[3]},\n",
    "                   ]\n",
    "print(hemisphere_image_urls)"
   ]
  },
  {
   "cell_type": "code",
   "execution_count": 63,
   "metadata": {},
   "outputs": [],
   "source": [
    "mars_data_dictionary = {\"News_Title\": news_title,\n",
    "                 \"News_Description\": news_desc,\n",
    "                 \"Featured_Image\": featured_image_link,\n",
    "                 \"Mars_Weather\": current_mars_weather,\n",
    "                  \"Hemispheres\" : hemisphere_image_urls\n",
    "                 }"
   ]
  },
  {
   "cell_type": "code",
   "execution_count": 64,
   "metadata": {},
   "outputs": [
    {
     "ename": "SyntaxError",
     "evalue": "'return' outside function (<ipython-input-64-a09ba8fb7ebc>, line 1)",
     "output_type": "error",
     "traceback": [
      "\u001b[1;36m  File \u001b[1;32m\"<ipython-input-64-a09ba8fb7ebc>\"\u001b[1;36m, line \u001b[1;32m1\u001b[0m\n\u001b[1;33m    return mars_data_dictionary\u001b[0m\n\u001b[1;37m                               ^\u001b[0m\n\u001b[1;31mSyntaxError\u001b[0m\u001b[1;31m:\u001b[0m 'return' outside function\n"
     ]
    }
   ],
   "source": [
    "return mars_data_dictionary"
   ]
  }
 ],
 "metadata": {
  "kernelspec": {
   "display_name": "Python 3",
   "language": "python",
   "name": "python3"
  },
  "language_info": {
   "codemirror_mode": {
    "name": "ipython",
    "version": 3
   },
   "file_extension": ".py",
   "mimetype": "text/x-python",
   "name": "python",
   "nbconvert_exporter": "python",
   "pygments_lexer": "ipython3",
   "version": "3.6.9"
  }
 },
 "nbformat": 4,
 "nbformat_minor": 2
}
